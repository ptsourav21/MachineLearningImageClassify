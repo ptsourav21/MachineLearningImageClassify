{
  "nbformat": 4,
  "nbformat_minor": 0,
  "metadata": {
    "colab": {
      "provenance": []
    },
    "kernelspec": {
      "name": "python3",
      "display_name": "Python 3"
    },
    "language_info": {
      "name": "python"
    },
    "gpuClass": "standard"
  },
  "cells": [
    {
      "cell_type": "code",
      "execution_count": null,
      "metadata": {
        "colab": {
          "base_uri": "https://localhost:8080/"
        },
        "id": "A1DXO9KZalSU",
        "outputId": "8ef287e8-65ba-4241-a4e3-145dcfd2b41f"
      },
      "outputs": [
        {
          "output_type": "stream",
          "name": "stdout",
          "text": [
            "Drive already mounted at /content/drive; to attempt to forcibly remount, call drive.mount(\"/content/drive\", force_remount=True).\n"
          ]
        }
      ],
      "source": [
        "from google.colab import drive\n",
        "drive.mount('/content/drive')"
      ]
    },
    {
      "cell_type": "code",
      "source": [
        "import pandas as pd\n",
        "import matplotlib as mat\n",
        "import matplotlib.pyplot as plt\n",
        "import numpy as np\n",
        "import seaborn as sns\n",
        "import random\n",
        "import os\n",
        "from numpy.random import seed\n",
        "from sklearn.model_selection import train_test_split\n",
        "from sklearn import metrics\n",
        "from sklearn.metrics import accuracy_score\n",
        "import tensorflow as tf\n",
        "from tensorflow import keras\n",
        "from tensorflow.keras import layers\n",
        "from tensorflow.keras import callbacks\n",
        "from tensorflow.keras.models import Model\n",
        "from tensorflow.keras.preprocessing.image import ImageDataGenerator\n",
        "import glob\n",
        "import cv2\n",
        "from tensorflow.random import set_seed\n",
        "import warnings\n",
        "from sklearn.preprocessing import OneHotEncoder\n",
        "from sklearn.model_selection import train_test_split\n",
        "from tensorflow.keras.models import Sequential, Model\n",
        "from tensorflow.keras.layers import Dense, Flatten, Conv2D, MaxPool2D, GlobalAveragePooling2D, Dropout\n",
        "from tensorflow.keras.applications.xception import Xception\n",
        "from keras.applications.inception_v3 import InceptionV3\n",
        "from tensorflow.keras.optimizers import Adam\n",
        "from sklearn.metrics import classification_report, confusion_matrix\n",
        "\n",
        "from sklearn.linear_model import LogisticRegression\n",
        "from sklearn.tree import DecisionTreeClassifier\n",
        "from sklearn.ensemble import RandomForestClassifier\n",
        "from sklearn.naive_bayes import MultinomialNB\n",
        "from sklearn.neighbors import KNeighborsClassifier\n",
        "from sklearn.svm import SVC\n",
        "from sklearn.linear_model import SGDClassifier\n",
        "from sklearn.metrics import classification_report,accuracy_score,precision_score,recall_score,f1_score\n",
        "from sklearn.metrics import roc_curve, roc_auc_score\n",
        "from sklearn.metrics import average_precision_score,roc_auc_score, roc_curve, precision_recall_curve"
      ],
      "metadata": {
        "id": "nG0m9dWo4iZr"
      },
      "execution_count": null,
      "outputs": []
    },
    {
      "cell_type": "code",
      "source": [
        "import zipfile\n",
        "local_zip = '/content/drive/MyDrive/University/Thesis/Thesis Project Folder/SkinDiseaseDataset.zip'\n",
        "zip_ref = zipfile.ZipFile(local_zip, 'r')\n",
        "zip_ref.extractall('/tmp/')\n",
        "zip_ref.close()"
      ],
      "metadata": {
        "id": "Lf_k-nxY4kux"
      },
      "execution_count": null,
      "outputs": []
    },
    {
      "cell_type": "code",
      "source": [
        "main_path = \"/tmp/\"\n",
        "train_path = os.path.join(main_path,\"SkinDiseaseDataset\")\n",
        "train_BacalCellCercinoma = glob.glob(train_path+\"/BacalCellCercinoma/*.jpg\")\n",
        "train_Eczema = glob.glob(train_path+\"/Eczema/*.jpg\")\n",
        "train_Melanoma = glob.glob(train_path+\"/Melanoma/*.jpg\")"
      ],
      "metadata": {
        "id": "xOuBUwjI4nas"
      },
      "execution_count": null,
      "outputs": []
    },
    {
      "cell_type": "code",
      "source": [
        "#Train list:\n",
        "train_list = [x for x in train_BacalCellCercinoma]\n",
        "train_list.extend([x for x in train_Eczema])\n",
        "train_list.extend([x for x in train_Melanoma])\n",
        "\n",
        "df_train = pd.DataFrame(np.concatenate([\n",
        "                       ['0']*len(train_BacalCellCercinoma),\n",
        "                       ['1']*len(train_Eczema),\n",
        "                       ['2']*len(train_Melanoma)]),\n",
        "                  columns = ['label'])\n",
        "df_train['image'] = [x for x in train_list]"
      ],
      "metadata": {
        "id": "qwsid7tE4vDf"
      },
      "execution_count": null,
      "outputs": []
    },
    {
      "cell_type": "code",
      "source": [
        "path = '/tmp/SkinDiseaseDataset'\n",
        "#List of image:\n",
        "img_list = list(df_train['image'])\n",
        "data_img = []\n",
        "for each in img_list:\n",
        "               #Each image path:\n",
        "               each_path = os.path.join(path, each)\n",
        "               #Read each image:\n",
        "               each_img = cv2.imread(each_path)\n",
        "               #OpenCv default color is BGR. Convert it to RGB:\n",
        "               each_img = cv2.cvtColor(each_img, cv2.COLOR_BGR2RGB)\n",
        "               #Resize the images:\n",
        "               each_img_resized = cv2.resize(each_img, (112,112))\n",
        "               #Save arrays to a list:\n",
        "               data_img.append(each_img_resized)\n",
        "# Converting list to numpy array\n",
        "X = np.array(data_img)\n",
        "y=df_train['label']"
      ],
      "metadata": {
        "id": "gGOfAyfw42z1"
      },
      "execution_count": null,
      "outputs": []
    },
    {
      "cell_type": "code",
      "source": [
        "X.shape"
      ],
      "metadata": {
        "id": "sG33Ng8k7F6D",
        "colab": {
          "base_uri": "https://localhost:8080/"
        },
        "outputId": "93abc3de-182d-4833-a001-215473721a49"
      },
      "execution_count": null,
      "outputs": [
        {
          "output_type": "execute_result",
          "data": {
            "text/plain": [
              "(9655, 112, 112, 3)"
            ]
          },
          "metadata": {},
          "execution_count": 7
        }
      ]
    },
    {
      "cell_type": "code",
      "source": [
        "X=X.reshape(9655,112*112*3)"
      ],
      "metadata": {
        "id": "FvLHNV2T5tb1"
      },
      "execution_count": null,
      "outputs": []
    },
    {
      "cell_type": "code",
      "source": [
        "from sklearn import preprocessing\n",
        "  \n",
        "\"\"\" MIN MAX SCALER \"\"\"\n",
        "  \n",
        "min_max_scaler = preprocessing.MinMaxScaler(feature_range =(0, 1))\n",
        "  \n",
        "# Scaled feature\n",
        "X = min_max_scaler.fit_transform(X)"
      ],
      "metadata": {
        "id": "icfKLPrsA5ui"
      },
      "execution_count": null,
      "outputs": []
    },
    {
      "cell_type": "code",
      "source": [
        "from sklearn.model_selection import train_test_split\n",
        "\n",
        "# split the dataset\n",
        "X_train, X_test, y_train, y_test = train_test_split(\n",
        "    X, y, test_size=0.2, random_state=42)"
      ],
      "metadata": {
        "id": "clbnXeY9Bm_B"
      },
      "execution_count": null,
      "outputs": []
    },
    {
      "cell_type": "code",
      "source": [
        "lsvm_model = SVC(kernel = 'linear',C = 0.2, probability=True, random_state = 0)\n",
        "lsvm_model.fit(X_train,y_train)\n",
        "pred_y = lsvm_model.predict(X_test)"
      ],
      "metadata": {
        "id": "DGOWp10BDZGW"
      },
      "execution_count": null,
      "outputs": []
    },
    {
      "cell_type": "code",
      "source": [
        "cm = confusion_matrix(y_test, pred_y) \n",
        "# Transform to df for easier plotting\n",
        "cm_df = pd.DataFrame(cm,\n",
        "                     \n",
        "                     index = ['BacalCellCercinoma' ,'Eczema' ,'Melanoma'], \n",
        "                     columns = ['BacalCellCercinoma' ,'Eczema' ,'Melanoma'])\n",
        "\n",
        "plt.figure(figsize=(8,6))\n",
        "sns.heatmap(cm_df, annot=True,cmap=\"Blues\", fmt='g')\n",
        "plt.title('Unigram Logistic Regression \\nAccuracy: {0:.2f}'.format(accuracy_score(y_test, pred_y)*100))\n",
        "plt.ylabel('True label')\n",
        "plt.xlabel('Predicted label')\n",
        "plt.xticks(rotation = 45)\n",
        "plt.yticks(rotation = 45)\n",
        "plt.show()"
      ],
      "metadata": {
        "colab": {
          "base_uri": "https://localhost:8080/",
          "height": 54
        },
        "id": "FZoV97QSDytw",
        "outputId": "686540ee-3bd5-4d17-eb22-21b12756be4a"
      },
      "execution_count": null,
      "outputs": [
        {
          "output_type": "display_data",
          "data": {
            "text/plain": [
              "<Figure size 576x432 with 2 Axes>"
            ],
            "image/png": "[encoded data removed]"
          },
          "metadata": {
            "needs_background": "light"
          }
        }
      ]
    },
    {
      "cell_type": "code",
      "source": [
        "report = pd.DataFrame(classification_report(y_true = y_test, y_pred = pred_y, output_dict=True)).transpose()\n",
        "report = report.rename(index={'0': 'BacalCellCercinoma','1':'Eczema','2':'Melanoma'})\n",
        "report[['precision','recall','f1-score']]=report[['precision','recall','f1-score']].apply(lambda x: round(x*100,2))\n",
        "report"
      ],
      "metadata": {
        "colab": {
          "base_uri": "https://localhost:8080/",
          "height": 237
        },
        "id": "-9jLOltqEazO",
        "outputId": "5258b84b-5366-4542-f2bb-132bee134725"
      },
      "execution_count": null,
      "outputs": [
        {
          "output_type": "execute_result",
          "data": {
            "text/plain": [
              "                    precision  recall  f1-score      support\n",
              "BacalCellCercinoma      88.89   91.39     90.12   674.000000\n",
              "Eczema                  99.32   96.38     97.83   607.000000\n",
              "Melanoma                90.29   90.15     90.22   650.000000\n",
              "accuracy                92.54   92.54     92.54     0.925427\n",
              "macro avg               92.83   92.64     92.72  1931.000000\n",
              "weighted avg            92.64   92.54     92.58  1931.000000"
            ],
            "text/html": [
              "\n",
              "  <div id=\"df-78283b4a-9510-459f-a4af-02dc2a2d9380\">\n",
              "    <div class=\"colab-df-container\">\n",
              "      <div>\n",
              "<style scoped>\n",
              "    .dataframe tbody tr th:only-of-type {\n",
              "        vertical-align: middle;\n",
              "    }\n",
              "\n",
              "    .dataframe tbody tr th {\n",
              "        vertical-align: top;\n",
              "    }\n",
              "\n",
              "    .dataframe thead th {\n",
              "        text-align: right;\n",
              "    }\n",
              "</style>\n",
              "<table border=\"1\" class=\"dataframe\">\n",
              "  <thead>\n",
              "    <tr style=\"text-align: right;\">\n",
              "      <th></th>\n",
              "      <th>precision</th>\n",
              "      <th>recall</th>\n",
              "      <th>f1-score</th>\n",
              "      <th>support</th>\n",
              "    </tr>\n",
              "  </thead>\n",
              "  <tbody>\n",
              "    <tr>\n",
              "      <th>BacalCellCercinoma</th>\n",
              "      <td>88.89</td>\n",
              "      <td>91.39</td>\n",
              "      <td>90.12</td>\n",
              "      <td>674.000000</td>\n",
              "    </tr>\n",
              "    <tr>\n",
              "      <th>Eczema</th>\n",
              "      <td>99.32</td>\n",
              "      <td>96.38</td>\n",
              "      <td>97.83</td>\n",
              "      <td>607.000000</td>\n",
              "    </tr>\n",
              "    <tr>\n",
              "      <th>Melanoma</th>\n",
              "      <td>90.29</td>\n",
              "      <td>90.15</td>\n",
              "      <td>90.22</td>\n",
              "      <td>650.000000</td>\n",
              "    </tr>\n",
              "    <tr>\n",
              "      <th>accuracy</th>\n",
              "      <td>92.54</td>\n",
              "      <td>92.54</td>\n",
              "      <td>92.54</td>\n",
              "      <td>0.925427</td>\n",
              "    </tr>\n",
              "    <tr>\n",
              "      <th>macro avg</th>\n",
              "      <td>92.83</td>\n",
              "      <td>92.64</td>\n",
              "      <td>92.72</td>\n",
              "      <td>1931.000000</td>\n",
              "    </tr>\n",
              "    <tr>\n",
              "      <th>weighted avg</th>\n",
              "      <td>92.64</td>\n",
              "      <td>92.54</td>\n",
              "      <td>92.58</td>\n",
              "      <td>1931.000000</td>\n",
              "    </tr>\n",
              "  </tbody>\n",
              "</table>\n",
              "</div>\n",
              "      <button class=\"colab-df-convert\" onclick=\"convertToInteractive('df-78283b4a-9510-459f-a4af-02dc2a2d9380')\"\n",
              "              title=\"Convert this dataframe to an interactive table.\"\n",
              "              style=\"display:none;\">\n",
              "        \n",
              "  <svg xmlns=\"http://www.w3.org/2000/svg\" height=\"24px\"viewBox=\"0 0 24 24\"\n",
              "       width=\"24px\">\n",
              "    <path d=\"M0 0h24v24H0V0z\" fill=\"none\"/>\n",
              "    <path d=\"M18.56 5.44l.94 2.06.94-2.06 2.06-.94-2.06-.94-.94-2.06-.94 2.06-2.06.94zm-11 1L8.5 8.5l.94-2.06 2.06-.94-2.06-.94L8.5 2.5l-.94 2.06-2.06.94zm10 10l.94 2.06.94-2.06 2.06-.94-2.06-.94-.94-2.06-.94 2.06-2.06.94z\"/><path d=\"M17.41 7.96l-1.37-1.37c-.4-.4-.92-.59-1.43-.59-.52 0-1.04.2-1.43.59L10.3 9.45l-7.72 7.72c-.78.78-.78 2.05 0 2.83L4 21.41c.39.39.9.59 1.41.59.51 0 1.02-.2 1.41-.59l7.78-7.78 2.81-2.81c.8-.78.8-2.07 0-2.86zM5.41 20L4 18.59l7.72-7.72 1.47 1.35L5.41 20z\"/>\n",
              "  </svg>\n",
              "      </button>\n",
              "      \n",
              "  <style>\n",
              "    .colab-df-container {\n",
              "      display:flex;\n",
              "      flex-wrap:wrap;\n",
              "      gap: 12px;\n",
              "    }\n",
              "\n",
              "    .colab-df-convert {\n",
              "      background-color: #E8F0FE;\n",
              "      border: none;\n",
              "      border-radius: 50%;\n",
              "      cursor: pointer;\n",
              "      display: none;\n",
              "      fill: #1967D2;\n",
              "      height: 32px;\n",
              "      padding: 0 0 0 0;\n",
              "      width: 32px;\n",
              "    }\n",
              "\n",
              "    .colab-df-convert:hover {\n",
              "      background-color: #E2EBFA;\n",
              "      box-shadow: 0px 1px 2px rgba(60, 64, 67, 0.3), 0px 1px 3px 1px rgba(60, 64, 67, 0.15);\n",
              "      fill: #174EA6;\n",
              "    }\n",
              "\n",
              "    [theme=dark] .colab-df-convert {\n",
              "      background-color: #3B4455;\n",
              "      fill: #D2E3FC;\n",
              "    }\n",
              "\n",
              "    [theme=dark] .colab-df-convert:hover {\n",
              "      background-color: #434B5C;\n",
              "      box-shadow: 0px 1px 3px 1px rgba(0, 0, 0, 0.15);\n",
              "      filter: drop-shadow(0px 1px 2px rgba(0, 0, 0, 0.3));\n",
              "      fill: #FFFFFF;\n",
              "    }\n",
              "  </style>\n",
              "\n",
              "      <script>\n",
              "        const buttonEl =\n",
              "          document.querySelector('#df-78283b4a-9510-459f-a4af-02dc2a2d9380 button.colab-df-convert');\n",
              "        buttonEl.style.display =\n",
              "          google.colab.kernel.accessAllowed ? 'block' : 'none';\n",
              "\n",
              "        async function convertToInteractive(key) {\n",
              "          const element = document.querySelector('#df-78283b4a-9510-459f-a4af-02dc2a2d9380');\n",
              "          const dataTable =\n",
              "            await google.colab.kernel.invokeFunction('convertToInteractive',\n",
              "                                                     [key], {});\n",
              "          if (!dataTable) return;\n",
              "\n",
              "          const docLinkHtml = 'Like what you see? Visit the ' +\n",
              "            '<a target=\"_blank\" href=https://colab.research.google.com/notebooks/data_table.ipynb>data table notebook</a>'\n",
              "            + ' to learn more about interactive tables.';\n",
              "          element.innerHTML = '';\n",
              "          dataTable['output_type'] = 'display_data';\n",
              "          await google.colab.output.renderOutput(dataTable, element);\n",
              "          const docLink = document.createElement('div');\n",
              "          docLink.innerHTML = docLinkHtml;\n",
              "          element.appendChild(docLink);\n",
              "        }\n",
              "      </script>\n",
              "    </div>\n",
              "  </div>\n",
              "  "
            ]
          },
          "metadata": {},
          "execution_count": 13
        }
      ]
    },
    {
      "cell_type": "code",
      "source": [
        "from sklearn.metrics import roc_curve, auc\n",
        "def plot_multiclass_roc(clf, X_test, y_test, n_classes, figsize=(17, 6)):\n",
        "    y_score = clf.predict_proba(X_test)\n",
        "\n",
        "    # structures\n",
        "    fpr = dict()\n",
        "    tpr = dict()\n",
        "    roc_auc = dict()\n",
        "\n",
        "    # calculate dummies once\n",
        "    y_test_dummies = pd.get_dummies(y_test, drop_first=False).values\n",
        "    for i in range(n_classes):\n",
        "        fpr[i], tpr[i], _ = roc_curve(y_test_dummies[:, i], y_score[:, i])\n",
        "        roc_auc[i] = auc(fpr[i], tpr[i])\n",
        "\n",
        "    # roc for each class\n",
        "    fig, ax = plt.subplots(figsize=figsize)\n",
        "    ax.plot([0, 1], [0, 1], 'k--')\n",
        "    ax.set_xlim([0.0, 1.0])\n",
        "    ax.set_ylim([0.0, 1.05])\n",
        "    ax.set_xlabel('False Positive Rate')\n",
        "    ax.set_ylabel('True Positive Rate')\n",
        "    ax.set_title('Receiver operating characteristic example')\n",
        "    for i in range(n_classes):\n",
        "        ax.plot(fpr[i], tpr[i], label='ROC curve (area = %0.2f) for label %i' % (roc_auc[i], i))\n",
        "    ax.legend(loc=\"best\")\n",
        "    ax.grid(alpha=.4)\n",
        "    sns.despine()\n",
        "    plt.show()\n",
        "plot_multiclass_roc(lsvm_model,X_test, y_test, n_classes=3, figsize=(10, 10))"
      ],
      "metadata": {
        "colab": {
          "base_uri": "https://localhost:8080/",
          "height": 621
        },
        "id": "9jZUmD0rKFwH",
        "outputId": "beb427db-fec8-4044-aef7-b502437917c9"
      },
      "execution_count": null,
      "outputs": [
        {
          "output_type": "display_data",
          "data": {
            "text/plain": [
              "<Figure size 720x720 with 1 Axes>"
            ],
            "image/png": "[encoded data removed]"
          },
          "metadata": {
            "needs_background": "light"
          }
        }
      ]
    }
  ]
}